{
  "nbformat": 4,
  "nbformat_minor": 0,
  "metadata": {
    "colab": {
      "provenance": []
    },
    "kernelspec": {
      "name": "python3",
      "display_name": "Python 3"
    },
    "language_info": {
      "name": "python"
    }
  },
  "cells": [
    {
      "cell_type": "code",
      "source": [
        "pip install Faker"
      ],
      "metadata": {
        "colab": {
          "base_uri": "https://localhost:8080/"
        },
        "id": "-BzgOCHg4co2",
        "outputId": "dc07baf2-fe72-4025-cd22-1a6a60c07f31"
      },
      "execution_count": 2,
      "outputs": [
        {
          "output_type": "stream",
          "name": "stdout",
          "text": [
            "Collecting Faker\n",
            "  Downloading faker-37.3.0-py3-none-any.whl.metadata (15 kB)\n",
            "Requirement already satisfied: tzdata in /usr/local/lib/python3.11/dist-packages (from Faker) (2025.1)\n",
            "Downloading faker-37.3.0-py3-none-any.whl (1.9 MB)\n",
            "\u001b[2K   \u001b[90m━━━━━━━━━━━━━━━━━━━━━━━━━━━━━━━━━━━━━━━━\u001b[0m \u001b[32m1.9/1.9 MB\u001b[0m \u001b[31m34.1 MB/s\u001b[0m eta \u001b[36m0:00:00\u001b[0m\n",
            "\u001b[?25hInstalling collected packages: Faker\n",
            "Successfully installed Faker-37.3.0\n"
          ]
        }
      ]
    },
    {
      "cell_type": "code",
      "execution_count": 3,
      "metadata": {
        "colab": {
          "base_uri": "https://localhost:8080/"
        },
        "id": "PXobAwV24SGI",
        "outputId": "4f15d211-ca71-4ee7-cc83-60a0bfd8b339"
      },
      "outputs": [
        {
          "output_type": "stream",
          "name": "stdout",
          "text": [
            "Original Data:\n",
            "    ID           Name  Age         City                Email\n",
            "0   1    Alice Smith   25     New York    alice@example.com\n",
            "1   2    Bob Johnson   30  Los Angeles      bob@example.com\n",
            "2   3  Charlie Brown   22      Chicago  charlie@example.com\n",
            "3   4      David Lee   35      Houston    david@example.com\n",
            "4   5     Eve Wilson   28      Phoenix      eve@example.com\n",
            "\n",
            "Masked Data:\n",
            "    ID   Name  Age         City  Email\n",
            "0   1  *****   25     New York  *****\n",
            "1   2  *****   30  Los Angeles  *****\n",
            "2   3  *****   22      Chicago  *****\n",
            "3   4  *****   35      Houston  *****\n",
            "4   5  *****   28      Phoenix  *****\n",
            "\n",
            "Generalized Data:\n",
            "    ID           Name    Age City                Email\n",
            "0   1    Alice Smith  20-29  USA    alice@example.com\n",
            "1   2    Bob Johnson  30-39  USA      bob@example.com\n",
            "2   3  Charlie Brown  20-29  USA  charlie@example.com\n",
            "3   4      David Lee  30-39  USA    david@example.com\n",
            "4   5     Eve Wilson  20-29  USA      eve@example.com\n",
            "\n",
            "Perturbed Data:\n",
            "    ID           Name  Age         City                Email\n",
            "0   1    Alice Smith   24     New York    alice@example.com\n",
            "1   2    Bob Johnson   31  Los Angeles      bob@example.com\n",
            "2   3  Charlie Brown   20      Chicago  charlie@example.com\n",
            "3   4      David Lee   37      Houston    david@example.com\n",
            "4   5     Eve Wilson   29      Phoenix      eve@example.com\n",
            "\n",
            "Pseudonymized Data:\n",
            "    ID               Name  Age                City                        Email\n",
            "0   1    Alexandria Hill   25         South Keith  millerelizabeth@example.net\n",
            "1   2     Terry Gallegos   30           New Chris     collinssarah@example.net\n",
            "2   3       Jenny Walker   22           Aarontown         ywheeler@example.net\n",
            "3   4   Nichole Anderson   35            Garyport          pholmes@example.org\n",
            "4   5  Alexandra Rollins   28  Port Alexanderfurt           todd78@example.com\n",
            "\n",
            "Tokenized Data:\n",
            "    ID    Name  Age         City                Email\n",
            "0   1  user_0   25     New York    alice@example.com\n",
            "1   2  user_1   30  Los Angeles      bob@example.com\n",
            "2   3  user_2   22      Chicago  charlie@example.com\n",
            "3   4  user_3   35      Houston    david@example.com\n",
            "4   5  user_4   28      Phoenix      eve@example.com\n"
          ]
        }
      ],
      "source": [
        "import pandas as pd\n",
        "from faker import Faker\n",
        "import random\n",
        "\n",
        "fake = Faker()\n",
        "\n",
        "# Sample Data\n",
        "data = {\n",
        "    'ID': [1, 2, 3, 4, 5],\n",
        "    'Name': ['Alice Smith', 'Bob Johnson', 'Charlie Brown', 'David Lee', 'Eve Wilson'],\n",
        "    'Age': [25, 30, 22, 35, 28],\n",
        "    'City': ['New York', 'Los Angeles', 'Chicago', 'Houston', 'Phoenix'],\n",
        "    'Email': ['alice@example.com', 'bob@example.com', 'charlie@example.com', 'david@example.com', 'eve@example.com']\n",
        "}\n",
        "\n",
        "df = pd.DataFrame(data)\n",
        "\n",
        "# Anonymization Techniques\n",
        "\n",
        "# 1. Masking/Redaction\n",
        "df_masked = df.copy()\n",
        "df_masked['Name'] = df_masked['Name'].apply(lambda x: '*****')\n",
        "df_masked['Email'] = df_masked['Email'].apply(lambda x: '*****')\n",
        "\n",
        "# 2. Generalization/Aggregation\n",
        "df_generalized = df.copy()\n",
        "df_generalized['Age'] = df_generalized['Age'].apply(lambda x: f'{x // 10 * 10}-{x // 10 * 10 + 9}')\n",
        "df_generalized['City'] = 'USA'\n",
        "\n",
        "# 3. Randomization/Perturbation (adding noise)\n",
        "df_perturbed = df.copy()\n",
        "df_perturbed['Age'] = df_perturbed['Age'].apply(lambda x: x + random.randint(-2, 2))\n",
        "\n",
        "# Pseudonymization Techniques\n",
        "\n",
        "# 1. Replacing with Fake Data\n",
        "df_pseudonymized = df.copy()\n",
        "df_pseudonymized['Name'] = [fake.name() for _ in range(len(df))]\n",
        "df_pseudonymized['City'] = [fake.city() for _ in range(len(df))]\n",
        "df_pseudonymized['Email'] = [fake.email() for _ in range(len(df))]\n",
        "\n",
        "# 2. Tokenization (using a lookup table)\n",
        "name_to_token = {name: f'user_{i}' for i, name in enumerate(df['Name'].unique())}\n",
        "df_tokenized = df.copy()\n",
        "df_tokenized['Name'] = df_tokenized['Name'].map(name_to_token)\n",
        "\n",
        "print(\"Original Data:\\n\", df)\n",
        "print(\"\\nMasked Data:\\n\", df_masked)\n",
        "print(\"\\nGeneralized Data:\\n\", df_generalized)\n",
        "print(\"\\nPerturbed Data:\\n\", df_perturbed)\n",
        "print(\"\\nPseudonymized Data:\\n\", df_pseudonymized)\n",
        "print(\"\\nTokenized Data:\\n\", df_tokenized)"
      ]
    }
  ]
}