{
  "nbformat": 4,
  "nbformat_minor": 0,
  "metadata": {
    "colab": {
      "provenance": []
    },
    "kernelspec": {
      "name": "python3",
      "display_name": "Python 3"
    },
    "language_info": {
      "name": "python"
    }
  },
  "cells": [
    {
      "cell_type": "code",
      "execution_count": null,
      "metadata": {
        "colab": {
          "base_uri": "https://localhost:8080/"
        },
        "id": "KxlTZcR9f6rc",
        "outputId": "061a1f9b-357e-4eb4-9cc2-31be52c3b039"
      },
      "outputs": [
        {
          "output_type": "stream",
          "name": "stdout",
          "text": [
            "Requirement already satisfied: cryptography in /usr/local/lib/python3.11/dist-packages (43.0.3)\n",
            "Requirement already satisfied: cffi>=1.12 in /usr/local/lib/python3.11/dist-packages (from cryptography) (1.17.1)\n",
            "Requirement already satisfied: pycparser in /usr/local/lib/python3.11/dist-packages (from cffi>=1.12->cryptography) (2.22)\n"
          ]
        }
      ],
      "source": [
        "pip install cryptography"
      ]
    },
    {
      "cell_type": "code",
      "source": [
        "from cryptography.fernet import Fernet"
      ],
      "metadata": {
        "id": "6TdDpiV2f8-V"
      },
      "execution_count": null,
      "outputs": []
    },
    {
      "cell_type": "code",
      "source": [
        "# Generate a key\n",
        "key = Fernet.generate_key()\n",
        "cipher_suite = Fernet(key)"
      ],
      "metadata": {
        "id": "dNGfd4aMgC8b"
      },
      "execution_count": null,
      "outputs": []
    },
    {
      "cell_type": "code",
      "source": [
        "# Encrypt a message\n",
        "message = b\"Hello, this is a secret message.\"\n",
        "cipher_text = cipher_suite.encrypt(message)\n",
        "print(f\"Encrypted: {cipher_text}\")"
      ],
      "metadata": {
        "colab": {
          "base_uri": "https://localhost:8080/"
        },
        "id": "xKF3C4rcf9Bj",
        "outputId": "7bd6f438-56d8-41b7-c308-d06526ad1de4"
      },
      "execution_count": null,
      "outputs": [
        {
          "output_type": "stream",
          "name": "stdout",
          "text": [
            "Encrypted: b'gAAAAABoIvL6xJ7zDcQ0htACiGxL4Lymk_H5M7B4s07ZaTqusTdiWZCFhb0qKb4xjzzMKsOdSvVOWxUgpWcLJttdEqAIzQZn_N4i1kyN8kxYYLhwqY8KBiXElGjVFBmNa18xEtriIrdp'\n"
          ]
        }
      ]
    },
    {
      "cell_type": "code",
      "source": [
        "# Decrypt the message\n",
        "plain_text = cipher_suite.decrypt(cipher_text)\n",
        "print(f\"Decrypted: {plain_text.decode()}\")"
      ],
      "metadata": {
        "colab": {
          "base_uri": "https://localhost:8080/"
        },
        "id": "z84VwwSuf9E_",
        "outputId": "a65037dd-857f-4d06-d692-dc59bc0a217d"
      },
      "execution_count": null,
      "outputs": [
        {
          "output_type": "stream",
          "name": "stdout",
          "text": [
            "Decrypted: Hello, this is a secret message.\n"
          ]
        }
      ]
    },
    {
      "cell_type": "code",
      "source": [
        "pip install pycryptodome"
      ],
      "metadata": {
        "colab": {
          "base_uri": "https://localhost:8080/"
        },
        "id": "ERZu87dDgURE",
        "outputId": "d80082a6-3fe0-44c9-cad9-fe283ca39e93"
      },
      "execution_count": null,
      "outputs": [
        {
          "output_type": "stream",
          "name": "stdout",
          "text": [
            "Collecting pycryptodome\n",
            "  Downloading pycryptodome-3.22.0-cp37-abi3-manylinux_2_17_x86_64.manylinux2014_x86_64.whl.metadata (3.4 kB)\n",
            "Downloading pycryptodome-3.22.0-cp37-abi3-manylinux_2_17_x86_64.manylinux2014_x86_64.whl (2.3 MB)\n",
            "\u001b[2K   \u001b[90m━━━━━━━━━━━━━━━━━━━━━━━━━━━━━━━━━━━━━━━━\u001b[0m \u001b[32m2.3/2.3 MB\u001b[0m \u001b[31m24.5 MB/s\u001b[0m eta \u001b[36m0:00:00\u001b[0m\n",
            "\u001b[?25hInstalling collected packages: pycryptodome\n",
            "Successfully installed pycryptodome-3.22.0\n"
          ]
        }
      ]
    },
    {
      "cell_type": "code",
      "source": [
        "from Crypto.PublicKey import RSA\n",
        "from Crypto.Cipher import PKCS1_OAEP\n",
        "from Crypto.Random import get_random_bytes"
      ],
      "metadata": {
        "id": "eBJ4WU7tgUUa"
      },
      "execution_count": null,
      "outputs": []
    },
    {
      "cell_type": "code",
      "source": [
        "# Generate RSA keys\n",
        "key = RSA.generate(2048)\n",
        "private_key = key.export_key()\n",
        "public_key = key.publickey().export_key()"
      ],
      "metadata": {
        "id": "3vR_ftOpgUXt"
      },
      "execution_count": null,
      "outputs": []
    },
    {
      "cell_type": "code",
      "source": [
        "# Encrypt a message\n",
        "message = b\"Hello, this is a secret message.\"\n",
        "cipher_rsa = PKCS1_OAEP.new(RSA.import_key(public_key))\n",
        "cipher_text = cipher_rsa.encrypt(message)\n",
        "print(f\"Encrypted: {cipher_text}\")"
      ],
      "metadata": {
        "colab": {
          "base_uri": "https://localhost:8080/"
        },
        "id": "ufjAZadvgUaq",
        "outputId": "a7e457bd-f7a2-405a-81a5-42831669ca41"
      },
      "execution_count": null,
      "outputs": [
        {
          "output_type": "stream",
          "name": "stdout",
          "text": [
            "Encrypted: b'XE\\x91\\x8c\\x95\\x1d\\x8c<L\\xb9n\\xce!605\\xaa\\xe8)G\\xe2T\\xf7\\xd6\\x13\\xfa\\x82^\\x90\\xee\\xc5d^\\xfdC\\x08<8\\x19#/@)\\x19\\xba\\xe9^\\x16\\xc5\\xde^\\nO\\x9bE\\\\\"I\\xf5\\xb6\\xaa\\x00`7\\xd3p\\xafr\\xc6\\xea\\x84\\x0b\\x81\\xc9\\x85\\xaa\\x19\\xbc\\xde,\\x81\\xd5sI\\x862\\xde\\xfbz~\\x04\\xdd\\x08\\x82LQ\\x9a\\x0b\"G\\x86\\xb6\\xe5\\x125\\xc0F\\xb4u\\x8f\\xa3\\xbf\\xb7\\x03\\xe7\\xfa\\xeeQq\\x10z\\xa2\\x1cW\\xdb\\xd3\\xdc\\x80\\xc2R2#\\x05\\xa5o\\xbf\\xa4\\xdb\\xd99\\x97\\x12\\xf2\\xa7u\\xf8\\xe5\\xf0\\xceY0\\xda/\\xe8\\x1c\\xe9\\xf3$dM\\xb5$+\\xe0\\xaa\\x81\\xe5\\x8d\\xb1!\\xe3\\xabfg\\xcd\\xf7\\x12\\xf6\\xecz\\x97d\\xea\\xd0,m\\x8d\\x10\\x9c\\xac\\xd0dE8\\xe1!\\xab\\xa5\\xff\\x9d\\x8b\\x93\\xc9,q\\x11u\\x90\\x14\\x13-\\xc4D\\xe4\\xf4\\xf5\\xf1\\xc8\\xaav+\\x9f\\x0bC\\xd0\\xd9\\xae\\xdew\\x88\\xf6\\x0e\\xf5!\\x16\\xa8\\xd3hA\\xc9<\\xe6\\xcf;\\xc9\\x86\\xdd8E\\xcb\\xa2_\\xed\\xb9f\\xa2'\n"
          ]
        }
      ]
    },
    {
      "cell_type": "code",
      "source": [
        "# Decrypt the message\n",
        "cipher_rsa = PKCS1_OAEP.new(RSA.import_key(private_key))\n",
        "plain_text = cipher_rsa.decrypt(cipher_text)\n",
        "print(f\"Decrypted: {plain_text.decode()}\")"
      ],
      "metadata": {
        "colab": {
          "base_uri": "https://localhost:8080/"
        },
        "id": "pLMpJmpTgUdZ",
        "outputId": "5dd608f3-c245-4796-fa80-c8e4def6c1cf"
      },
      "execution_count": null,
      "outputs": [
        {
          "output_type": "stream",
          "name": "stdout",
          "text": [
            "Decrypted: Hello, this is a secret message.\n"
          ]
        }
      ]
    },
    {
      "cell_type": "code",
      "source": [
        "import hashlib"
      ],
      "metadata": {
        "id": "kEspKUDEgUgq"
      },
      "execution_count": null,
      "outputs": []
    },
    {
      "cell_type": "code",
      "source": [
        "# Hash a message\n",
        "message = \"Hello, this is a secret message.\"\n",
        "hash_object = hashlib.sha256(message.encode())\n",
        "hex_dig = hash_object.hexdigest()\n",
        "print(f\"SHA-256 Hash: {hex_dig}\")"
      ],
      "metadata": {
        "colab": {
          "base_uri": "https://localhost:8080/"
        },
        "id": "Ya3XG8j3gwqm",
        "outputId": "ddbba8b5-b7ff-46ac-93b5-659dbec3f46b"
      },
      "execution_count": null,
      "outputs": [
        {
          "output_type": "stream",
          "name": "stdout",
          "text": [
            "SHA-256 Hash: 183b8a3cf4754dc9de851ad2b5278a77ab88f63f265d9d64e53b317f3761c743\n"
          ]
        }
      ]
    },
    {
      "cell_type": "code",
      "source": [
        "from Crypto.Cipher import AES\n",
        "from Crypto.Random import get_random_bytes\n",
        "from Crypto.Util.Padding import pad, unpad"
      ],
      "metadata": {
        "id": "zGmz6FLagwtR"
      },
      "execution_count": null,
      "outputs": []
    },
    {
      "cell_type": "code",
      "source": [
        "# Generate a key and initialization vector (IV)\n",
        "key = get_random_bytes(16)\n",
        "iv = get_random_bytes(16)"
      ],
      "metadata": {
        "id": "04_hdeEkgwv5"
      },
      "execution_count": null,
      "outputs": []
    },
    {
      "cell_type": "code",
      "source": [
        "# Encrypt a message\n",
        "cipher = AES.new(key, AES.MODE_CBC, iv)\n",
        "message = b\"Hello, this is a secret message.\"\n",
        "cipher_text = cipher.encrypt(pad(message, AES.block_size))\n",
        "print(f\"Encrypted: {cipher_text}\")"
      ],
      "metadata": {
        "colab": {
          "base_uri": "https://localhost:8080/"
        },
        "id": "bPlwSZfsgwyo",
        "outputId": "2763dfb0-c0ab-4a7d-c914-c2f2feab5b8d"
      },
      "execution_count": null,
      "outputs": [
        {
          "output_type": "stream",
          "name": "stdout",
          "text": [
            "Encrypted: b'\\x0f\\xdeO\\x93K\\x03\\xaf\\xdad\\x9a/\\x8c\\xb1\\x10\\xaetc\\xae\\xd1\\xe5\\x8dt\\xfd\\x0e-z\\xa5\\xc3\\xd1[\\xc0Z\\xe3an\\xb0\\xc3\\x89[\\x1d\\x1f\\x98qq\\x0c<U\\xb3'\n"
          ]
        }
      ]
    },
    {
      "cell_type": "code",
      "source": [
        "# Decrypt the message\n",
        "cipher = AES.new(key, AES.MODE_CBC, iv)\n",
        "plain_text = unpad(cipher.decrypt(cipher_text), AES.block_size)\n",
        "print(f\"Decrypted: {plain_text.decode()}\")"
      ],
      "metadata": {
        "colab": {
          "base_uri": "https://localhost:8080/"
        },
        "id": "TWQcNBQ6gw1S",
        "outputId": "597f473f-c145-4fa6-c86b-966e6b6e1797"
      },
      "execution_count": null,
      "outputs": [
        {
          "output_type": "stream",
          "name": "stdout",
          "text": [
            "Decrypted: Hello, this is a secret message.\n"
          ]
        }
      ]
    },
    {
      "cell_type": "code",
      "source": [],
      "metadata": {
        "id": "e_67CaGlgw3t"
      },
      "execution_count": null,
      "outputs": []
    },
    {
      "cell_type": "code",
      "source": [],
      "metadata": {
        "id": "X18S1XXagw6V"
      },
      "execution_count": null,
      "outputs": []
    },
    {
      "cell_type": "code",
      "source": [],
      "metadata": {
        "id": "8fWfsOZ9gw9w"
      },
      "execution_count": null,
      "outputs": []
    },
    {
      "cell_type": "code",
      "source": [],
      "metadata": {
        "id": "TPSbvu0VgUkJ"
      },
      "execution_count": null,
      "outputs": []
    }
  ]
}