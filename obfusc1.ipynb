{
  "nbformat": 4,
  "nbformat_minor": 0,
  "metadata": {
    "colab": {
      "provenance": []
    },
    "kernelspec": {
      "name": "python3",
      "display_name": "Python 3"
    },
    "language_info": {
      "name": "python"
    }
  },
  "cells": [
    {
      "cell_type": "code",
      "execution_count": 2,
      "metadata": {
        "id": "T4Ku_gr245hr"
      },
      "outputs": [],
      "source": [
        "#One way to obfuscate a model is to rename variables and functions to meaningless names. This can be done using tools like pyminifier. Here's an example:"
      ]
    },
    {
      "cell_type": "code",
      "source": [
        "# Original code\n",
        "def calculate_area(radius):\n",
        "    pi = 3.14159\n",
        "    return pi * radius * radius\n",
        "\n",
        "# Obfuscated code using pyminifier\n",
        "def a(b):\n",
        "    c = 3.14159\n",
        "    return c * b * b"
      ],
      "metadata": {
        "id": "NX-mDuBR4-sK"
      },
      "execution_count": 3,
      "outputs": []
    }
  ]
}