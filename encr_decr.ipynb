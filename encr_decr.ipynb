{
  "nbformat": 4,
  "nbformat_minor": 0,
  "metadata": {
    "colab": {
      "provenance": []
    },
    "kernelspec": {
      "name": "python3",
      "display_name": "Python 3"
    },
    "language_info": {
      "name": "python"
    }
  },
  "cells": [
    {
      "cell_type": "code",
      "execution_count": 1,
      "metadata": {
        "colab": {
          "base_uri": "https://localhost:8080/"
        },
        "id": "55fATvIL7QE_",
        "outputId": "c0eb4b02-5f79-400a-aee6-810b9360243c"
      },
      "outputs": [
        {
          "output_type": "stream",
          "name": "stdout",
          "text": [
            "Requirement already satisfied: cryptography in /usr/local/lib/python3.11/dist-packages (43.0.3)\n",
            "Requirement already satisfied: cffi>=1.12 in /usr/local/lib/python3.11/dist-packages (from cryptography) (1.17.1)\n",
            "Requirement already satisfied: pycparser in /usr/local/lib/python3.11/dist-packages (from cffi>=1.12->cryptography) (2.22)\n"
          ]
        }
      ],
      "source": [
        "pip install cryptography"
      ]
    },
    {
      "cell_type": "code",
      "source": [
        "# import required module\n",
        "from cryptography.fernet import Fernet"
      ],
      "metadata": {
        "id": "XZyGg5ZK7nt7"
      },
      "execution_count": 2,
      "outputs": []
    },
    {
      "cell_type": "code",
      "source": [
        "# key generation\n",
        "key = Fernet.generate_key()\n",
        "\n",
        "# string the key in a file\n",
        "with open('filekey.key', 'wb') as filekey:\n",
        "   filekey.write(key)"
      ],
      "metadata": {
        "id": "LKN7baGy7nwr"
      },
      "execution_count": 3,
      "outputs": []
    },
    {
      "cell_type": "code",
      "source": [
        "# opening the key\n",
        "with open('filekey.key', 'rb') as filekey:\n",
        "    key = filekey.read()\n",
        "\n",
        "# using the generated key\n",
        "fernet = Fernet(key)\n",
        "\n",
        "# opening the original file to encrypt\n",
        "with open('ameh.csv', 'rb') as file:\n",
        "    original = file.read()\n",
        "\n",
        "# encrypting the file\n",
        "encrypted = fernet.encrypt(original)\n",
        "\n",
        "# opening the file in write mode and\n",
        "# writing the encrypted data\n",
        "with open('ameh.csv', 'wb') as encrypted_file:\n",
        "    encrypted_file.write(encrypted)"
      ],
      "metadata": {
        "id": "Se7Xqr9Z7nzi"
      },
      "execution_count": 5,
      "outputs": []
    },
    {
      "cell_type": "code",
      "source": [
        "# using the key\n",
        "fernet = Fernet(key)\n",
        "\n",
        "# opening the encrypted file\n",
        "with open('ameh.csv', 'rb') as enc_file:\n",
        "    encrypted = enc_file.read()\n",
        "\n",
        "# decrypting the file\n",
        "decrypted = fernet.decrypt(encrypted)\n",
        "\n",
        "# opening the file in write mode and\n",
        "# writing the decrypted data\n",
        "with open('ameh.csv', 'wb') as dec_file:\n",
        "    dec_file.write(decrypted)"
      ],
      "metadata": {
        "id": "mZySEOKl7n2H"
      },
      "execution_count": 7,
      "outputs": []
    },
    {
      "cell_type": "code",
      "source": [],
      "metadata": {
        "id": "prwgqw3m7n4k"
      },
      "execution_count": null,
      "outputs": []
    },
    {
      "cell_type": "code",
      "source": [],
      "metadata": {
        "id": "AQBihp7H7n7I"
      },
      "execution_count": null,
      "outputs": []
    },
    {
      "cell_type": "code",
      "source": [],
      "metadata": {
        "id": "bTHWocQq7n-n"
      },
      "execution_count": null,
      "outputs": []
    }
  ]
}