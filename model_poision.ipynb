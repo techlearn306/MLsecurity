{
 "cells": [
  {
   "cell_type": "code",
   "execution_count": 1,
   "id": "63100277-b725-4093-bc6b-2464671c0d87",
   "metadata": {},
   "outputs": [],
   "source": [
    "#importing necessary modules\n",
    "import numpy as np\n",
    "import matplotlib.pyplot as plt\n",
    "from sklearn.datasets import make_classification\n",
    "from sklearn.model_selection import train_test_split\n",
    "from sklearn.ensemble import RandomForestClassifier\n",
    "from sklearn.metrics import accuracy_score"
   ]
  },
  {
   "cell_type": "code",
   "execution_count": 2,
   "id": "f6d2ed74-650e-41bd-931a-3b2dc08b973e",
   "metadata": {},
   "outputs": [],
   "source": [
    "# Creating an original dataset\n",
    "X, y = make_classification(n_samples=1000, n_features=10, random_state=42)\n",
    "X_train, X_test, y_train, y_test = train_test_split(X, y, test_size=0.2, random_state=42)\n"
   ]
  },
  {
   "cell_type": "code",
   "execution_count": 3,
   "id": "6c0ddb83-49c5-4e25-9d5e-e16f8c96620c",
   "metadata": {},
   "outputs": [
    {
     "name": "stdout",
     "output_type": "stream",
     "text": [
      "Original Model Accuracy: 0.88\n"
     ]
    }
   ],
   "source": [
    "# Training the model\n",
    "model = RandomForestClassifier()\n",
    "model.fit(X_train, y_train)\n",
    "y_pred = model.predict(X_test)\n",
    "print(\"Original Model Accuracy:\", accuracy_score(y_test, y_pred))\n"
   ]
  },
  {
   "cell_type": "code",
   "execution_count": 4,
   "id": "b99577e1-d8c2-4180-8cb6-4362d01e38ad",
   "metadata": {},
   "outputs": [],
   "source": [
    "# Data Poisoning (Label Manipulation)\n",
    "poison_rate = 0.1  # Poisoning rate (10% of the data will be modified)\n",
    "num_poison = int(len(y_train) * poison_rate)\n",
    "y_train[:num_poison] = 1 - y_train[:num_poison]  # Altering the labels\n"
   ]
  },
  {
   "cell_type": "code",
   "execution_count": 5,
   "id": "904816ee-3669-4367-bd53-79dd5c501317",
   "metadata": {},
   "outputs": [
    {
     "name": "stdout",
     "output_type": "stream",
     "text": [
      "Poisoned Model Accuracy: 0.885\n"
     ]
    }
   ],
   "source": [
    "# Retraining with poisoned data\n",
    "poisoned_model = RandomForestClassifier()\n",
    "poisoned_model.fit(X_train, y_train)\n",
    "y_poisoned_pred = poisoned_model.predict(X_test)\n",
    "print(\"Poisoned Model Accuracy:\", accuracy_score(y_test, y_poisoned_pred))"
   ]
  },
  {
   "cell_type": "code",
   "execution_count": null,
   "id": "1842309e-0067-4f8d-a099-7fdcea0fe45e",
   "metadata": {},
   "outputs": [],
   "source": []
  },
  {
   "cell_type": "code",
   "execution_count": null,
   "id": "7a96f6c5-7322-4621-b07c-20712deda054",
   "metadata": {},
   "outputs": [],
   "source": []
  }
 ],
 "metadata": {
  "kernelspec": {
   "display_name": "Python 3 (ipykernel)",
   "language": "python",
   "name": "python3"
  },
  "language_info": {
   "codemirror_mode": {
    "name": "ipython",
    "version": 3
   },
   "file_extension": ".py",
   "mimetype": "text/x-python",
   "name": "python",
   "nbconvert_exporter": "python",
   "pygments_lexer": "ipython3",
   "version": "3.13.3"
  }
 },
 "nbformat": 4,
 "nbformat_minor": 5
}
