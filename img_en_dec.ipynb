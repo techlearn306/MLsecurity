{
  "nbformat": 4,
  "nbformat_minor": 0,
  "metadata": {
    "colab": {
      "provenance": []
    },
    "kernelspec": {
      "name": "python3",
      "display_name": "Python 3"
    },
    "language_info": {
      "name": "python"
    }
  },
  "cells": [
    {
      "cell_type": "code",
      "execution_count": 6,
      "metadata": {
        "colab": {
          "base_uri": "https://localhost:8080/"
        },
        "id": "abRUkTDX_VZh",
        "outputId": "7eb2991c-8c3f-49f4-b795-4a79d1eb8bb7"
      },
      "outputs": [
        {
          "output_type": "stream",
          "name": "stdout",
          "text": [
            "Enter Key for encryption of Image : 9\n",
            "Key for encryption :  9\n",
            "Encryption Done...\n"
          ]
        },
        {
          "output_type": "execute_result",
          "data": {
            "text/plain": [
              "9"
            ]
          },
          "metadata": {},
          "execution_count": 6
        }
      ],
      "source": [
        "# try block to handle exception\n",
        "try:\n",
        "\n",
        "\n",
        "\t# taking encryption key as input\n",
        "\tkey = int(input('Enter Key for encryption of Image : '))\n",
        "\n",
        "\t# print the encryption key that\n",
        "\t# we are using\n",
        "\n",
        "\tprint('Key for encryption : ', key)\n",
        "\n",
        "\t# open file for reading purpose\n",
        "\tfin = open(\"abc.png\" , 'rb')\n",
        "\n",
        "\t# storing image data in variable \"image\"\n",
        "\timage = fin.read()\n",
        "\tfin.close()\n",
        "\n",
        "\t# converting image into byte array to\n",
        "\t# perform encryption easily on numeric data\n",
        "\timage = bytearray(image)\n",
        "\n",
        "\t# performing XOR operation on each value of bytearray\n",
        "\tfor index, values in enumerate(image):\n",
        "\t\timage[index] = values ^ key\n",
        "\n",
        "\t# opening file for writing purpose\n",
        "\tfin = open(\"abc.png\", 'wb')\n",
        "\n",
        "\t# writing encrypted data in image\n",
        "\tfin.write(image)\n",
        "\tfin.close()\n",
        "\tprint('Encryption Done...')\n",
        "\n",
        "\n",
        "except Exception:\n",
        "\tprint('Error caught : ', Exception.__name__)\n",
        "9"
      ]
    },
    {
      "cell_type": "code",
      "source": [
        "# try block to handle the exception\n",
        "try:\n",
        "\n",
        "\t# taking decryption key as input\n",
        "\tkey = int(input('Enter Key for encryption of Image : '))\n",
        "\n",
        "\t# print path of image file and decryption key that we are using\n",
        "\tprint('Key for Decryption : ', key)\n",
        "\n",
        "\t# open file for reading purpose\n",
        "\tfin = open(\"abc.png\", 'rb')\n",
        "\n",
        "\t# storing image data in variable \"image\"\n",
        "\timage = fin.read()\n",
        "\tfin.close()\n",
        "\n",
        "\t# converting image into byte array to perform decryption easily on numeric data\n",
        "\timage = bytearray(image)\n",
        "\n",
        "\t# performing XOR operation on each value of bytearray\n",
        "\tfor index, values in enumerate(image):\n",
        "\t\timage[index] = values ^ key\n",
        "\n",
        "\t# opening file for writing purpose\n",
        "\tfin = open(\"abc.png\", 'wb')\n",
        "\n",
        "\t# writing decryption data in image\n",
        "\tfin.write(image)\n",
        "\tfin.close()\n",
        "\tprint('Decryption Done...')\n",
        "\n",
        "\n",
        "except Exception:\n",
        "\tprint('Error caught : ', Exception.__name__)\n"
      ],
      "metadata": {
        "colab": {
          "base_uri": "https://localhost:8080/"
        },
        "id": "LAcvTnalAlPY",
        "outputId": "fce1c359-976f-4b4b-89f7-d5898b7e1298"
      },
      "execution_count": 10,
      "outputs": [
        {
          "output_type": "stream",
          "name": "stdout",
          "text": [
            "Enter Key for encryption of Image : 9\n",
            "Key for Decryption :  9\n",
            "Decryption Done...\n"
          ]
        }
      ]
    }
  ]
}