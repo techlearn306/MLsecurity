{
 "cells": [
  {
   "cell_type": "code",
   "execution_count": 1,
   "id": "86924fbe-6e9e-4fa9-a4c0-7c9e5769cf3c",
   "metadata": {},
   "outputs": [],
   "source": [
    "# importing necessary molules\n",
    "import numpy as np\n",
    "from sklearn.model_selection import train_test_split\n",
    "from sklearn.linear_model import LogisticRegression\n",
    "from sklearn.metrics import accuracy_score"
   ]
  },
  {
   "cell_type": "code",
   "execution_count": 2,
   "id": "56079bce-a7f4-45b5-a53f-3f32e92cfd86",
   "metadata": {},
   "outputs": [],
   "source": [
    "# 1. Generate a simple dataset\n",
    "X = np.random.rand(100, 2)\n",
    "y = (X[:, 0] + X[:, 1] > 1).astype(int)  # Binary classification based on a line"
   ]
  },
  {
   "cell_type": "code",
   "execution_count": 3,
   "id": "84d2662e-8a33-4693-b6fa-a3a9f75421a0",
   "metadata": {},
   "outputs": [],
   "source": [
    "# 2. Split into training and testing sets\n",
    "X_train, X_test, y_train, y_test = train_test_split(X, y, test_size=0.2, random_state=42)"
   ]
  },
  {
   "cell_type": "code",
   "execution_count": 4,
   "id": "ee8cd195-6649-4dbb-a790-31fac7d7c322",
   "metadata": {},
   "outputs": [
    {
     "name": "stdout",
     "output_type": "stream",
     "text": [
      "Baseline Accuracy: 0.9500\n"
     ]
    }
   ],
   "source": [
    "# 3. Train a Logistic Regression model (baseline)\n",
    "model = LogisticRegression()\n",
    "model.fit(X_train, y_train)\n",
    "baseline_accuracy = accuracy_score(y_test, model.predict(X_test))\n",
    "print(f\"Baseline Accuracy: {baseline_accuracy:.4f}\")"
   ]
  },
  {
   "cell_type": "code",
   "execution_count": 5,
   "id": "b92b8077-0a16-4c61-bc60-8f53cb2f1d68",
   "metadata": {},
   "outputs": [],
   "source": [
    "# 4. Simulate Data Poisoning: Add a few noisy points\n",
    "poisoned_X_train = X_train.copy()\n",
    "poisoned_y_train = y_train.copy()\n",
    "\n",
    "# Add 5 poisoned data points (adversarial examples)\n",
    "num_poisoned = 5\n",
    "for i in range(num_poisoned):\n",
    "    # Create a point that should be classified as 0 but is labeled as 1\n",
    "    poisoned_X_train = np.vstack((poisoned_X_train, [0.2, 0.3]))\n",
    "    poisoned_y_train = np.append(poisoned_y_train, 1)\n"
   ]
  },
  {
   "cell_type": "code",
   "execution_count": 6,
   "id": "4f06e66d-0280-48fb-8848-5702185bf007",
   "metadata": {},
   "outputs": [
    {
     "name": "stdout",
     "output_type": "stream",
     "text": [
      "Accuracy after Data Poisoning: 0.9500\n"
     ]
    }
   ],
   "source": [
    "# 5. Retrain the model with poisoned data\n",
    "model_poisoned = LogisticRegression()\n",
    "model_poisoned.fit(poisoned_X_train, poisoned_y_train)\n",
    "poisoned_accuracy = accuracy_score(y_test, model_poisoned.predict(X_test))\n",
    "print(f\"Accuracy after Data Poisoning: {poisoned_accuracy:.4f}\")"
   ]
  },
  {
   "cell_type": "code",
   "execution_count": null,
   "id": "4b4ad6ce-5d18-45c2-a1ac-1ccc79d86940",
   "metadata": {},
   "outputs": [],
   "source": []
  },
  {
   "cell_type": "code",
   "execution_count": null,
   "id": "ca692325-1b1d-4c97-8ad3-2c3145e3b445",
   "metadata": {},
   "outputs": [],
   "source": []
  },
  {
   "cell_type": "code",
   "execution_count": null,
   "id": "d21d7944-32d7-4c75-b1a5-4e811d7f626c",
   "metadata": {},
   "outputs": [],
   "source": []
  }
 ],
 "metadata": {
  "kernelspec": {
   "display_name": "Python 3 (ipykernel)",
   "language": "python",
   "name": "python3"
  },
  "language_info": {
   "codemirror_mode": {
    "name": "ipython",
    "version": 3
   },
   "file_extension": ".py",
   "mimetype": "text/x-python",
   "name": "python",
   "nbconvert_exporter": "python",
   "pygments_lexer": "ipython3",
   "version": "3.13.3"
  }
 },
 "nbformat": 4,
 "nbformat_minor": 5
}
